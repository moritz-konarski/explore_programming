{
 "cells": [
  {
   "cell_type": "markdown",
   "metadata": {},
   "source": [
    "# What is functional programming?\n",
    "\n",
    "- method of programming emphasizing functions and their applications, not commands and their execution\n",
    "- clear, mathematical notation\n",
    "- mathematical basis supporing reasoning about the program"
   ]
  },
  {
   "cell_type": "markdown",
   "metadata": {},
   "source": [
    "## Functions and types\n",
    "\n",
    "Haskell notation\n",
    "\n",
    "```haskell\n",
    "f :: X -> Y\n",
    "```\n",
    "\n",
    "says that `f` is a function taking type `X` and returning type `Y`, see\n",
    "\n",
    "```haskell\n",
    "sin :: Float -> Float\n",
    "age :: Person -> Int\n",
    "add :: (Integer, Integer) -> Integer \n",
    "logBase :: Float -> (Float, Float)\n",
    "```\n",
    "\n",
    "- `Int` is $-2^{29}$ to $2^{29}$, `Integer` is unlimited\n",
    "- to apply functions in Haskell, we can write, all are equivalent\n",
    "\n",
    "```haskell\n",
    "f x\n",
    "f(x) \n",
    "f (x)\n",
    "logBase 2 10\n",
    "(logBase 2) 10\n",
    "(logBase 2)(10)\n",
    "```\n",
    "\n",
    "- association in Haskell is to the left and also most binding\n",
    "\n",
    "```haskell\n",
    "-- this is wrong\n",
    "log sin x == (log sin) x\n",
    "-- this is correct\n",
    "log (sin x)\n",
    "```\n",
    "\n",
    "- this math $\\sin\\, 2 \\theta = 2\\,\\sin\\,\\theta\\,\\cos\\,\\theta$ equals\n",
    "\n",
    "```haskell\n",
    "sin (2*theta) = 2 sin theta cos theta\n",
    "```"
   ]
  },
  {
   "cell_type": "markdown",
   "metadata": {},
   "source": [
    "## Functional composition\n",
    "- we can have composite functions, we combine them\n",
    "\n",
    "```haskell\n",
    "f :: Y -> Z\n",
    "g :: X -> Y\n",
    "f . g :: X -> Z\n",
    "(f . g) x = f (g x)\n",
    "```\n",
    "\n",
    "- this is the same as saying $f(g(x))$ or $f \\circ g$\n",
    "- this composition is right to left, like in maths"
   ]
  },
  {
   "cell_type": "markdown",
   "metadata": {},
   "source": [
    "## Example: common words\n",
    "\n",
    "- program to find the most common words\n",
    "- a text (list of characters)\n",
    "- characters are `Char` (denoted by `'`), strings are `[Char]` (denoted by `\"`)\n",
    "- we want to define a function like this\n",
    "\n",
    "```haskell\n",
    "commonWords :: Int -> [Char] -> [Char]\n",
    "```\n",
    "\n",
    "- takes text, returns list of `n` most common words\n",
    "- order of association is from right to left, so you have to write\n",
    "- how exactly this program should be implemented is of course not clear\n",
    "- we do have to make a list of the most common words at some point\n",
    "- words = sequences of chars without space or newline\n",
    "- we assume we have the function (actually is stdlib)\n",
    "\n",
    "```haskell\n",
    "-- extracts words from test\n",
    "words :: [Char] -> [[Char]]\n",
    "```\n",
    "\n",
    "- we can use type synonyms to make this more readable\n",
    "\n",
    "```haskell\n",
    "type Text = [Char]\n",
    "type Word = [Char]\n",
    "-- extracts words from test\n",
    "words :: Text -> [Word]\n",
    "```\n",
    "\n",
    "- we will make all characters lowercase\n",
    "\n",
    "```haskell\n",
    "toLower :: Char -> Char\n",
    "```\n",
    "\n",
    "- to apply this to all elements in the text we need `map`\n",
    "\n",
    "```haskell\n",
    "map :: (a -> b) -> [a] -> [b]\n",
    "```\n",
    "\n",
    "- `map f [list]` applies `f` to every element of the list\n",
    "- converting all text to lower case is\n",
    "\n",
    "```haskell\n",
    "map toLower :: Text -> Text\n",
    "```\n",
    "\n",
    "- our function thus far is `words . map toLower`\n",
    "- to count the words we could sort them into alphabetical order and then count runs of identical words\n",
    "- we need a function to sort them\n",
    "\n",
    "```haskell\n",
    "sortWords :: [Word] -> [Word]\n",
    "```\n",
    "\n",
    "- and then we need a function to count it\n",
    "\n",
    "```haskell\n",
    "countRuns :: [Word] -> [(Int, Word)]\n",
    "```\n",
    "\n",
    "- the we coult have a function that sorts our runs descending to find the longest\n",
    "\n",
    "```haskell\n",
    "sortRuns :: [(Int,Word)] -> [(Int,Word)]\n",
    "```\n",
    "\n",
    "- then we simply need `take :: Int -> [a] -> [a]` that returns the first `n` elements of a list\n",
    "- then we need a function to display our results\n",
    "\n",
    "```haskell\n",
    "showRuns :: [(Int,Word)] -> [String]\n",
    "```\n",
    "\n",
    "- at the very end we need to concatenate our string\n",
    "- we now need concat `concat :: [[a]] -> [a]`\n",
    "- this finally leads to \n",
    "\n",
    "```haskell\n",
    "commonWords :: Int -> Text -> String\n",
    "commonWords n = concat . map showRun . take n . sortRuns . \n",
    "                    countRuns . sortWords . words . \n",
    "                    map toLower\n",
    "```\n",
    "\n",
    "- this cannot always be done, but when it can, it's great\n",
    "- _Lesson 1_: functional composition is important\n",
    "- _Lesson 2_: deciding the type of a function is the first step in defining it\n",
    "- we created a script (list of definitions)"
   ]
  },
  {
   "cell_type": "markdown",
   "metadata": {},
   "source": [
    "## Example: numbers into words\n",
    "\n",
    "- we want a program that converts a number into its corresponding string\n",
    "\n",
    "```haskell\n",
    "convert 308000 = \"three hundred and eight thousand\"\n",
    "```\n",
    "\n",
    "- the function will have the signature `convert :: Int -> String`\n",
    "- it takes a positive integer < 1 million\n",
    "- we can create the following lists"
   ]
  },
  {
   "cell_type": "code",
   "execution_count": 2,
   "metadata": {},
   "outputs": [],
   "source": [
    "units = [\"zero\",\"one\",\"two\",\"three\",\"four\",\"five\",\"six\",\"seven\",\n",
    "            \"eight\",\"nine\"] \n",
    "teens = [\"ten\",\"eleven\",\"twelve\",\"thirteen\",\"fourteen\",\"fifteen\",\n",
    "            \"sixteen\",\"seventeen\",\"eighteen\",\"nineteen\"] \n",
    "tens = [\"twenty\",\"thirty\",\"forty\",\"fifty\",\"sixty\",\"seventy\",\n",
    "            \"eighty\",\"ninety\"]"
   ]
  },
  {
   "cell_type": "markdown",
   "metadata": {},
   "source": [
    "- we can first solve a simpler task, for $0 \\le n < 10$"
   ]
  },
  {
   "cell_type": "code",
   "execution_count": 7,
   "metadata": {},
   "outputs": [
    {
     "data": {
      "text/plain": [
       "\"nine\""
      ]
     },
     "metadata": {},
     "output_type": "display_data"
    },
    {
     "data": {
      "text/plain": [
       "\"two\""
      ]
     },
     "metadata": {},
     "output_type": "display_data"
    }
   ],
   "source": [
    "convert1 :: Int -> String\n",
    "convert1 n = units!!n\n",
    "\n",
    "convert1 9\n",
    "convert1 2"
   ]
  },
  {
   "cell_type": "markdown",
   "metadata": {},
   "source": [
    "- the operator `!!` returns the `n`th element starting from 0\n",
    "- we can now step up our program to 2 digits $0 \\le n < 100$\n",
    "- first we need a function that splits tens into 1s and 10s"
   ]
  },
  {
   "cell_type": "code",
   "execution_count": 8,
   "metadata": {},
   "outputs": [
    {
     "data": {
      "text/plain": [
       "(3,4)"
      ]
     },
     "metadata": {},
     "output_type": "display_data"
    }
   ],
   "source": [
    "digits2 :: Int -> (Int, Int)\n",
    "digits2 n = (div n 10, mod n 10)\n",
    "\n",
    "digits2 34"
   ]
  },
  {
   "cell_type": "markdown",
   "metadata": {},
   "source": [
    "- we can now define the next define "
   ]
  },
  {
   "cell_type": "code",
   "execution_count": 13,
   "metadata": {},
   "outputs": [
    {
     "data": {
      "text/plain": [
       "\"sixty-nine\""
      ]
     },
     "metadata": {},
     "output_type": "display_data"
    },
    {
     "data": {
      "text/plain": [
       "\"ninety-nine\""
      ]
     },
     "metadata": {},
     "output_type": "display_data"
    },
    {
     "data": {
      "text/plain": [
       "\"thirteen\""
      ]
     },
     "metadata": {},
     "output_type": "display_data"
    }
   ],
   "source": [
    "-- combines two strings to one string\n",
    "combine2 :: (Int,Int) -> String\n",
    "combine2 (t,u)\n",
    "    | t == 0           = units!!u\n",
    "    | t == 1           = teens!!u\n",
    "    | t >= 2 && u == 0 = tens!!(t-2)\n",
    "    | t >= 2 && u /= 0 = tens!!(t-2) ++ \"-\" ++ units!!u\n",
    "\n",
    "convert2 :: Int -> String\n",
    "convert2 = combine2 . digits2\n",
    "\n",
    "convert2 69\n",
    "convert2 99\n",
    "convert2 13"
   ]
  },
  {
   "cell_type": "markdown",
   "metadata": {},
   "source": [
    "- we can also write the `combine2` function in two other ways\n",
    "\n",
    "```haskell\n",
    "combine2 :: (Int,Int) -> String \n",
    "combine2 (t,u) \n",
    "    | t==0 = units!!u \n",
    "    | t==1 = teens!!u \n",
    "    | u==0 = tens!!(t-2) \n",
    "    | otherwise = tens!!(t-2) ++ \"-\" ++ units!!u\n",
    "```\n",
    "\n",
    "or\n",
    "\n",
    "```haskell\n",
    "convert2 :: Int -> String\n",
    "convert2 n \n",
    "    | t==0 = units!!u \n",
    "    | t==1 = teens!!u \n",
    "    | u==0 = tens!!(t-2) \n",
    "    | otherwise = tens!!(t-2) ++ \"-\" ++ units!!u \n",
    "        where (t,u) = (n `div` 10, n `mod` 10)\n",
    "```\n",
    "\n",
    "- here the `where` clause eliminates the need for a definition of `digits2`\n",
    "- p. 24"
   ]
  }
 ],
 "metadata": {
  "kernelspec": {
   "display_name": "Haskell",
   "language": "haskell",
   "name": "haskell"
  },
  "language_info": {
   "codemirror_mode": "ihaskell",
   "file_extension": ".hs",
   "mimetype": "text/x-haskell",
   "name": "haskell",
   "pygments_lexer": "Haskell",
   "version": "8.8.4"
  }
 },
 "nbformat": 4,
 "nbformat_minor": 4
}
