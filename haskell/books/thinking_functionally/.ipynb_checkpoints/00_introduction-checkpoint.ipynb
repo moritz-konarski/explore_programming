{
 "cells": [
  {
   "cell_type": "markdown",
   "metadata": {},
   "source": [
    "# Introduction\n",
    "\n",
    "## Exercises\n",
    "\n",
    "### Exercise A\n",
    "\n",
    "Express $\\sin\\, 3\\alpha$ in terms of $\\sin\\,\\alpha$. Can be solved using the trig identities. Result is $\\sin\\, \\alpha(3 - 4 \\sin^2\\alpha)$"
   ]
  }
 ],
 "metadata": {
  "kernelspec": {
   "display_name": "Haskell",
   "language": "haskell",
   "name": "haskell"
  },
  "language_info": {
   "codemirror_mode": "ihaskell",
   "file_extension": ".hs",
   "mimetype": "text/x-haskell",
   "name": "haskell",
   "pygments_lexer": "Haskell",
   "version": "8.8.4"
  }
 },
 "nbformat": 4,
 "nbformat_minor": 4
}
